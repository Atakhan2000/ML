{
  "nbformat": 4,
  "nbformat_minor": 0,
  "metadata": {
    "kernelspec": {
      "display_name": "Python 3",
      "language": "python",
      "name": "python3"
    },
    "language_info": {
      "codemirror_mode": {
        "name": "ipython",
        "version": 3
      },
      "file_extension": ".py",
      "mimetype": "text/x-python",
      "name": "python",
      "nbconvert_exporter": "python",
      "pygments_lexer": "ipython3",
      "version": "3.7.3"
    },
    "colab": {
      "name": "SVR -for- Boston-housing.ipynb",
      "provenance": []
    }
  },
  "cells": [
    {
      "cell_type": "markdown",
      "metadata": {
        "id": "J1DqS8DB8Gv7"
      },
      "source": [
        "# Вторая часть ноутбука"
      ]
    },
    {
      "cell_type": "code",
      "metadata": {
        "id": "lRoQJ0z4508h"
      },
      "source": [
        "import math\n",
        "import pandas as pd\n",
        "import matplotlib.pyplot as plt\n",
        "import numpy as np\n",
        "from sklearn.preprocessing import MinMaxScaler\n",
        "from sklearn.svm import SVR\n",
        "from sklearn.model_selection import cross_validate, GridSearchCV\n",
        "from sklearn.utils import shuffle"
      ],
      "execution_count": null,
      "outputs": []
    },
    {
      "cell_type": "code",
      "metadata": {
        "id": "CCJPuOQz508j"
      },
      "source": [
        "df = pd.read_csv(\"housingdata.csv\")"
      ],
      "execution_count": null,
      "outputs": []
    },
    {
      "cell_type": "code",
      "metadata": {
        "id": "HkfZPnaM508p"
      },
      "source": [
        "X = df.drop('MEDV', axis=1)# independent Variables\n",
        "y = df.iloc[:, 13] #Dependent or target variables"
      ],
      "execution_count": null,
      "outputs": []
    },
    {
      "cell_type": "code",
      "metadata": {
        "id": "PFqIkOw_508r"
      },
      "source": [
        "scaler = MinMaxScaler(feature_range=(0, 1))\n",
        "X = scaler.fit_transform(X)"
      ],
      "execution_count": null,
      "outputs": []
    },
    {
      "cell_type": "code",
      "metadata": {
        "id": "jk5PA_24508r"
      },
      "source": [
        "seed = 26\n",
        "X, y = shuffle(X, y, random_state=seed)"
      ],
      "execution_count": null,
      "outputs": []
    },
    {
      "cell_type": "markdown",
      "metadata": {
        "id": "XxzuzKR9508r"
      },
      "source": [
        "Реализуем модели с использованием различных типов ядра (линейного, полиномиального и RBF) и сравним их MAE и RMSE"
      ]
    },
    {
      "cell_type": "markdown",
      "metadata": {
        "id": "cFNn7hK1508s"
      },
      "source": [
        "### Linear kernel"
      ]
    },
    {
      "cell_type": "code",
      "metadata": {
        "id": "4CoD28yx508s"
      },
      "source": [
        "grd = GridSearchCV(estimator=SVR(kernel='linear'),\n",
        "                       param_grid={'C': [0.1, 1, 100, 1000],\n",
        "                                   'epsilon': [0.0001, 0.0005, 0.001, 0.005, 0.01, 0.05, 0.1, 0.5, 1, 5, 10],},\n",
        "                       cv=5, scoring='neg_mean_squared_error', verbose=0, n_jobs=-1)"
      ],
      "execution_count": null,
      "outputs": []
    },
    {
      "cell_type": "code",
      "metadata": {
        "id": "kj4XztgI508t",
        "outputId": "9482ef3d-e77b-4bb1-c2ed-0e236c4af045"
      },
      "source": [
        "#grd.fit(X,y)\n",
        "grid_result = grd.fit(X, y)\n",
        "best_params = grid_result.best_params_\n",
        "best_svr = SVR(kernel='linear', C=best_params[\"C\"], epsilon=best_params[\"epsilon\"], coef0=0.1, shrinking=True,\n",
        "                   tol=0.001, cache_size=200, verbose=False, max_iter=-1)\n",
        "\n",
        "scoring = {\n",
        "               'abs_error': 'neg_mean_absolute_error',\n",
        "               'squared_error': 'neg_mean_squared_error'}\n",
        "\n",
        "scores = cross_validate(best_svr, X, y, cv=10, scoring=scoring, return_train_score=True)\n",
        "scoring = {'abs_error': 'neg_mean_absolute_error',\n",
        "           'squared_error': 'neg_mean_squared_error'}\n",
        "\n",
        "scores = cross_validate(best_svr, X, y, cv=10, scoring=scoring, return_train_score=True)\n",
        "LMAE=abs(scores['test_abs_error'].mean())\n",
        "LRMSE=math.sqrt(abs(scores['test_squared_error'].mean()))\n",
        "\n",
        "print('MAE of Linear Kernel = ', LMAE)\n",
        "print('RMSE of Linear kernel = ', LRMSE)\n",
        "#return \"MAE :\", abs(scores['test_abs_error'].mean()), \"| RMSE :\", math.sqrt(abs(scores['test_squared_error'].mean()))\n",
        "# Run "
      ],
      "execution_count": null,
      "outputs": [
        {
          "name": "stdout",
          "output_type": "stream",
          "text": [
            "MAE of Linear Kernel =  3.4443026114013997\n",
            "RMSE of Linear kernel =  4.849065624928485\n"
          ]
        }
      ]
    },
    {
      "cell_type": "markdown",
      "metadata": {
        "id": "m9DDCACf508t"
      },
      "source": [
        "### Polynomial Kernel"
      ]
    },
    {
      "cell_type": "code",
      "metadata": {
        "id": "hsYPWzL_508u"
      },
      "source": [
        "gsc = GridSearchCV(\n",
        "    estimator=SVR(kernel='poly'),\n",
        "    param_grid={\n",
        "        'C': [0.1, 1, 100, 1000],\n",
        "        'epsilon': [0.0001, 0.0005, 0.001, 0.005, 0.01, 0.05, 0.1, 0.5, 1, 5, 10],\n",
        "        'degree': [2, 3, 4],\n",
        "        'coef0': [0.1, 0.01, 0.001, 0.0001]},\n",
        "    cv=5, scoring='neg_mean_squared_error', verbose=0, n_jobs=-1)"
      ],
      "execution_count": null,
      "outputs": []
    },
    {
      "cell_type": "code",
      "metadata": {
        "id": "YFE_F35y508u",
        "outputId": "dbe49408-a95a-44d6-bcd6-90f06d8284ea"
      },
      "source": [
        "grid_result = gsc.fit(X, y)\n",
        "best_params = grid_result.best_params_\n",
        "best_svr = SVR(kernel='poly', C=best_params[\"C\"], epsilon=best_params[\"epsilon\"], coef0=best_params[\"coef0\"],\n",
        "               degree=best_params[\"degree\"], shrinking=True,\n",
        "               tol=0.001, cache_size=200, verbose=False, max_iter=-1)\n",
        "\n",
        "scoring = {\n",
        "    'abs_error': 'neg_mean_absolute_error',\n",
        "    'squared_error': 'neg_mean_squared_error'}\n",
        "\n",
        "scores = cross_validate(best_svr, X, y, cv=10, scoring=scoring, return_train_score=True)\n",
        "PMAE=abs(scores['test_abs_error'].mean())\n",
        "PRMSE=math.sqrt(abs(scores['test_squared_error'].mean()))    \n",
        "print('MAE of Polynomial Kernel = ', PMAE)\n",
        "print('RMSE of Polinomial Kernel = ', PRMSE)  "
      ],
      "execution_count": null,
      "outputs": [
        {
          "name": "stdout",
          "output_type": "stream",
          "text": [
            "MAE of Polynomial Kernel =  2.106990689972121\n",
            "RMSE of Polinomial Kernel =  3.2128807618748065\n"
          ]
        }
      ]
    },
    {
      "cell_type": "markdown",
      "metadata": {
        "id": "f6Af1gD_508v"
      },
      "source": [
        "### RBF Kernel"
      ]
    },
    {
      "cell_type": "code",
      "metadata": {
        "id": "vy57L1ZD508v"
      },
      "source": [
        "gsc = GridSearchCV(\n",
        "        estimator=SVR(kernel='rbf'),\n",
        "        param_grid={\n",
        "            'C': [0.1, 1, 100, 1000],\n",
        "            'epsilon': [0.0001, 0.0005, 0.001, 0.005, 0.01, 0.05, 0.1, 0.5, 1, 5, 10],\n",
        "            'gamma': [0.0001, 0.001, 0.005, 0.1, 1, 3, 5]\n",
        "        },\n",
        "        cv=5, scoring='neg_mean_squared_error', verbose=0, n_jobs=-1)"
      ],
      "execution_count": null,
      "outputs": []
    },
    {
      "cell_type": "code",
      "metadata": {
        "id": "Hu1bh3Dn508v",
        "outputId": "14334f76-aa2f-43a3-e6b3-22c7e829634e"
      },
      "source": [
        "grid_result = gsc.fit(X, y)\n",
        "best_params = grid_result.best_params_\n",
        "best_svr = SVR(kernel='rbf', C=best_params[\"C\"], epsilon=best_params[\"epsilon\"], gamma=best_params[\"gamma\"],\n",
        "                   coef0=0.1, shrinking=True,\n",
        "                   tol=0.001, cache_size=200, verbose=False, max_iter=-1)\n",
        "scoring = {'abs_error': 'neg_mean_absolute_error',\n",
        "           'squared_error': 'neg_mean_squared_error'}\n",
        "scores = cross_validate(best_svr, X, y, cv=10, scoring=scoring, return_train_score=True)\n",
        "MAE=abs(scores['test_abs_error'].mean())\n",
        "RMSE=math.sqrt(abs(scores['test_squared_error'].mean()))\n",
        "print('MAE of RBF Kernel = ', MAE)\n",
        "print('RMSE of RBF Kernel = ', RMSE)\n",
        "#return \"MAE :\", abs(scores['test_abs_error'].mean()), \"| RMSE :\", math.sqrt(abs(scores['test_squared_error'].mean()))"
      ],
      "execution_count": null,
      "outputs": [
        {
          "name": "stdout",
          "output_type": "stream",
          "text": [
            "MAE of RBF Kernel =  2.099819260764446\n",
            "RMSE of RBF Kernel =  3.150020608835843\n"
          ]
        }
      ]
    },
    {
      "cell_type": "markdown",
      "metadata": {
        "id": "V7CMggy57Ekc"
      },
      "source": [
        "# Выводы и обсуждения"
      ]
    },
    {
      "cell_type": "markdown",
      "metadata": {
        "id": "Qgvbw5sI508w"
      },
      "source": [
        "RBF показал лучший результат"
      ]
    },
    {
      "cell_type": "markdown",
      "metadata": {
        "id": "MUbTTcoj7Bnn"
      },
      "source": [
        "Были проведены эксперименты с методами:\n",
        "- метод опорных векторов с линейным ядром\n",
        "- метод опорных векторов с полиномиальным ядром\n",
        "- метод опорных векторов с ядром rbf "
      ]
    },
    {
      "cell_type": "markdown",
      "metadata": {
        "id": "uuj2zATt7XHe"
      },
      "source": [
        "### С какими проблемами столкнулись?"
      ]
    },
    {
      "cell_type": "markdown",
      "metadata": {
        "id": "p_NhlvX07bmZ"
      },
      "source": [
        "- Была проблема с визуализацией данных через seaborn.jointplot: во-первых, требуется версия 0.11, которая не поддерживается jupyter-notebook'ом, во-вторых, эта визуализация данных стоит очень дорого по оперативной памяти (наступит момент, когда ядро будет занимать больше 2Гб) -- (ноутбук с анализом выборки - первый отправленый ноутбук)\n",
        "\n",
        "- Довольно долго собираются данные для модели. Ноутбук с SVR работает примерно 15 минут. примерно 15 минут."
      ]
    }
  ]
}